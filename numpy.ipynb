{
  "nbformat": 4,
  "nbformat_minor": 0,
  "metadata": {
    "colab": {
      "provenance": [],
      "authorship_tag": "ABX9TyOMurTuxlfMTGFDIHIBXDYp",
      "include_colab_link": true
    },
    "kernelspec": {
      "name": "python3",
      "display_name": "Python 3"
    },
    "language_info": {
      "name": "python"
    }
  },
  "cells": [
    {
      "cell_type": "markdown",
      "metadata": {
        "id": "view-in-github",
        "colab_type": "text"
      },
      "source": [
        "<a href=\"https://colab.research.google.com/github/Saurav-kumar077/Machine_Learning/blob/main/numpy.ipynb\" target=\"_parent\"><img src=\"https://colab.research.google.com/assets/colab-badge.svg\" alt=\"Open In Colab\"/></a>"
      ]
    },
    {
      "cell_type": "code",
      "execution_count": null,
      "metadata": {
        "id": "At6_cwklP-mU"
      },
      "outputs": [],
      "source": [
        "import numpy as np\n",
        "import matplotlib.pyplot as plt\n"
      ]
    },
    {
      "cell_type": "code",
      "source": [
        "arr_1d = np.array([1,2,3,4,5,6])\n",
        "print(\"printing 1D_array:\",arr_1d)"
      ],
      "metadata": {
        "colab": {
          "base_uri": "https://localhost:8080/"
        },
        "id": "EI0opBviLk0o",
        "outputId": "89f3693a-cc20-4c05-ee6a-205b24611851"
      },
      "execution_count": null,
      "outputs": [
        {
          "output_type": "stream",
          "name": "stdout",
          "text": [
            "printing 1D_array: [1 2 3 4 5 6]\n"
          ]
        }
      ]
    },
    {
      "cell_type": "code",
      "source": [
        "arr_2d=np.array([[1,2,3],[4,5,6]])\n",
        "print(\"printing 2D array:\",arr_2d)"
      ],
      "metadata": {
        "colab": {
          "base_uri": "https://localhost:8080/"
        },
        "id": "Eu-H88WUMl4q",
        "outputId": "1c464630-08ba-416c-9ed6-caff9c50ce5b"
      },
      "execution_count": null,
      "outputs": [
        {
          "output_type": "stream",
          "name": "stdout",
          "text": [
            "printing 2D array: [[1 2 3]\n",
            " [4 5 6]]\n"
          ]
        }
      ]
    },
    {
      "cell_type": "code",
      "source": [
        "py_list = [1,2,3]\n",
        "print(\"multiplication of python list by 2:\",py_list*2)"
      ],
      "metadata": {
        "colab": {
          "base_uri": "https://localhost:8080/"
        },
        "id": "MQOD3zkgMkPn",
        "outputId": "89c0b06a-3338-4a2c-e4af-d3316f690365"
      },
      "execution_count": null,
      "outputs": [
        {
          "output_type": "stream",
          "name": "stdout",
          "text": [
            "multiplication of python list by 2: [1, 2, 3, 1, 2, 3]\n"
          ]
        }
      ]
    },
    {
      "cell_type": "code",
      "source": [
        "zeros =np.zeros((3,4))\n",
        "print(\"printing the zero matrics:\\n\",zeros)\n",
        "\n",
        "ones = np.ones((4,5))\n",
        "print(\"printing the ones mmatrics: \\n\",ones)"
      ],
      "metadata": {
        "colab": {
          "base_uri": "https://localhost:8080/"
        },
        "id": "l5NYaCOuRAzS",
        "outputId": "e4a32e67-aa9c-442e-ea4a-ecbc63d63aa4"
      },
      "execution_count": null,
      "outputs": [
        {
          "output_type": "stream",
          "name": "stdout",
          "text": [
            "printing the zero matrics:\n",
            " [[0. 0. 0. 0.]\n",
            " [0. 0. 0. 0.]\n",
            " [0. 0. 0. 0.]]\n",
            "printing the ones mmatrics: \n",
            " [[1. 1. 1. 1. 1.]\n",
            " [1. 1. 1. 1. 1.]\n",
            " [1. 1. 1. 1. 1.]\n",
            " [1. 1. 1. 1. 1.]]\n"
          ]
        }
      ]
    },
    {
      "cell_type": "code",
      "source": [
        "full=np.full((3,3),7)\n",
        "print(\"printing full matrices:\\n\",full)"
      ],
      "metadata": {
        "colab": {
          "base_uri": "https://localhost:8080/"
        },
        "id": "QHuuOdBZS5Uk",
        "outputId": "a9c4768d-8219-4120-a184-f693acc35ffd"
      },
      "execution_count": null,
      "outputs": [
        {
          "output_type": "stream",
          "name": "stdout",
          "text": [
            "printing full matrices:\n",
            " [[7 7 7]\n",
            " [7 7 7]\n",
            " [7 7 7]]\n"
          ]
        }
      ]
    },
    {
      "cell_type": "code",
      "source": [
        "random = np.random.random((2,4))\n",
        "print(\"random\\n\",random)"
      ],
      "metadata": {
        "colab": {
          "base_uri": "https://localhost:8080/"
        },
        "id": "N7LuPehiTZKB",
        "outputId": "46a0c71f-f2bc-4dfe-b952-109d8fca2ec5"
      },
      "execution_count": null,
      "outputs": [
        {
          "output_type": "stream",
          "name": "stdout",
          "text": [
            "random\n",
            " [[0.3868715  0.56839632 0.48001204 0.85004029]\n",
            " [0.51103579 0.71018915 0.98486966 0.46083089]]\n"
          ]
        }
      ]
    },
    {
      "cell_type": "code",
      "source": [
        "sequence=np.arange(0,10,2)\n",
        "print(\"printing sequence:\\n\",sequence)"
      ],
      "metadata": {
        "colab": {
          "base_uri": "https://localhost:8080/"
        },
        "id": "OfaEZc97T1FU",
        "outputId": "9fb194dc-7063-4700-c241-84f78cdc63e8"
      },
      "execution_count": null,
      "outputs": [
        {
          "output_type": "stream",
          "name": "stdout",
          "text": [
            "printing sequence:\n",
            " [0 2 4 6 8]\n"
          ]
        }
      ]
    },
    {
      "cell_type": "code",
      "source": [
        "arr = np.array([[1,2,3], [4,5,6]])\n",
        "\n",
        "print(\"shape:\", arr.shape)\n",
        "print(\"size:\", arr.size)\n",
        "print(\"dtype:\", arr.dtype)\n",
        "print(\"dimension:\", arr.ndim)"
      ],
      "metadata": {
        "colab": {
          "base_uri": "https://localhost:8080/"
        },
        "id": "7ftRJZ4TUToF",
        "outputId": "b692b060-744d-4afe-ce7d-aa1e16020918"
      },
      "execution_count": null,
      "outputs": [
        {
          "output_type": "stream",
          "name": "stdout",
          "text": [
            "shape: (2, 3)\n",
            "size: 6\n",
            "dtype: int64\n",
            "dimension: 2\n"
          ]
        }
      ]
    },
    {
      "cell_type": "code",
      "source": [
        "arr= np.arange(12)\n",
        "print(\"Original printing array \",arr)\n",
        "\n",
        "reshaped = arr.reshape(3,4)\n",
        "print(\"\\nReshaped array \\n\",reshaped)\n",
        "\n",
        "flattened = reshaped.flatten()\n",
        "print(\"\\nflattened array \\n \",flattened)"
      ],
      "metadata": {
        "id": "oOdcWf22VvHk",
        "colab": {
          "base_uri": "https://localhost:8080/"
        },
        "outputId": "3afc316a-06de-4292-ebad-11be5f7cb95d"
      },
      "execution_count": null,
      "outputs": [
        {
          "output_type": "stream",
          "name": "stdout",
          "text": [
            "Original printing array  [ 0  1  2  3  4  5  6  7  8  9 10 11]\n",
            "\n",
            "Reshaped array \n",
            " [[ 0  1  2  3]\n",
            " [ 4  5  6  7]\n",
            " [ 8  9 10 11]]\n",
            "\n",
            "flattened array \n",
            "  [ 0  1  2  3  4  5  6  7  8  9 10 11]\n"
          ]
        }
      ]
    },
    {
      "cell_type": "code",
      "source": [
        "#returns view instead of copy\n",
        "raveled = reshaped.ravel()\n",
        "print(\"raveled \\n\",raveled)"
      ],
      "metadata": {
        "colab": {
          "base_uri": "https://localhost:8080/"
        },
        "id": "dri-Wjq-lTF2",
        "outputId": "a454e54a-47d2-4719-969d-cb272ac412f8"
      },
      "execution_count": null,
      "outputs": [
        {
          "output_type": "stream",
          "name": "stdout",
          "text": [
            "raveled \n",
            " [ 0  1  2  3  4  5  6  7  8  9 10 11]\n"
          ]
        }
      ]
    },
    {
      "cell_type": "code",
      "source": [
        "#transpose\n",
        "transpose=reshaped.T\n",
        "print(\"transpose array \\n\",transpose)"
      ],
      "metadata": {
        "colab": {
          "base_uri": "https://localhost:8080/"
        },
        "id": "04pk4Eiim4CT",
        "outputId": "7b7fed87-2947-413f-f011-8c5cd538cd2e"
      },
      "execution_count": null,
      "outputs": [
        {
          "output_type": "stream",
          "name": "stdout",
          "text": [
            "transpose array \n",
            " [[ 0  4  8]\n",
            " [ 1  5  9]\n",
            " [ 2  6 10]\n",
            " [ 3  7 11]]\n"
          ]
        }
      ]
    },
    {
      "cell_type": "code",
      "source": [
        "#slicing\n",
        "arr=np.array([1,2,3,4,5,6,7,8,9,10])\n",
        "print(\"Basic slicing\\n\",arr[2:7])\n",
        "print(\"with step\\n\",arr[2:7:2])\n",
        "print(\"Negative indexing\" , arr[-3])"
      ],
      "metadata": {
        "colab": {
          "base_uri": "https://localhost:8080/"
        },
        "id": "cLYrcDV7nXbP",
        "outputId": "7f517ba6-a029-4983-837e-12e3e096ffda"
      },
      "execution_count": null,
      "outputs": [
        {
          "output_type": "stream",
          "name": "stdout",
          "text": [
            "Basic slicing\n",
            " [3 4 5 6 7]\n",
            "with step\n",
            " [3 5 7]\n",
            "Negative indexing 8\n"
          ]
        }
      ]
    },
    {
      "cell_type": "code",
      "source": [
        "arr_2D = np.array([[1,2,3],\n",
        "                  [4,5,6],\n",
        "                  [7,8,9]])\n",
        "print(\"specific element \",arr_2D[1,2])\n",
        "print(\"printing A Row \",arr_2D[0])\n",
        "print(\"Printing Entire Column :\",arr_2D[:,1])"
      ],
      "metadata": {
        "colab": {
          "base_uri": "https://localhost:8080/"
        },
        "id": "KBrvXQ31qcc6",
        "outputId": "d814c250-92b9-4f80-ce81-7f0a9a108f8a"
      },
      "execution_count": null,
      "outputs": [
        {
          "output_type": "stream",
          "name": "stdout",
          "text": [
            "specific element  6\n",
            "printing A Row  [1 2 3]\n",
            "Printing Entire Column : [2 5 8]\n"
          ]
        }
      ]
    },
    {
      "cell_type": "code",
      "source": [
        "#Sorting\n",
        "unsorted = np.array([1,4,7,3,9,10])\n",
        "print(\"Sorted array:\",np.sort(unsorted))"
      ],
      "metadata": {
        "colab": {
          "base_uri": "https://localhost:8080/"
        },
        "id": "CzGIQTu7reA5",
        "outputId": "af25c21f-3474-438a-a0b4-357a75ad3bd6"
      },
      "execution_count": null,
      "outputs": [
        {
          "output_type": "stream",
          "name": "stdout",
          "text": [
            "Sorted array: [ 1  3  4  7  9 10]\n"
          ]
        }
      ]
    },
    {
      "cell_type": "code",
      "source": [
        "#filtering\n",
        "numbers = np.array([1,2,3,4,5,6,7,8,9,10,11])\n",
        "Even_Number = numbers[numbers % 2 == 0]\n",
        "print(\"Even Numbers\",Even_Number)"
      ],
      "metadata": {
        "colab": {
          "base_uri": "https://localhost:8080/"
        },
        "id": "xRt5FWBst4G0",
        "outputId": "b9dcb980-e114-4a06-ca4a-9f654bfbab7a"
      },
      "execution_count": null,
      "outputs": [
        {
          "output_type": "stream",
          "name": "stdout",
          "text": [
            "Even Numbers [ 2  4  6  8 10]\n"
          ]
        }
      ]
    },
    {
      "cell_type": "code",
      "source": [
        "#masking\n",
        "mask=numbers>6\n",
        "print(\"printing the numbers greater than 6:->\",numbers[mask])"
      ],
      "metadata": {
        "colab": {
          "base_uri": "https://localhost:8080/"
        },
        "id": "M86_hz0Mvtwc",
        "outputId": "ee9aa83a-f7b6-4529-cf0f-027825d2cbc6"
      },
      "execution_count": null,
      "outputs": [
        {
          "output_type": "stream",
          "name": "stdout",
          "text": [
            "printing the numbers greater than 6:-> [ 7  8  9 10 11]\n"
          ]
        }
      ]
    },
    {
      "cell_type": "code",
      "source": [
        "indices=[0,2,4]\n",
        "print(numbers[indices])\n",
        "\n",
        "where_result = np.where(numbers>6)\n",
        "print(\"NP where \",numbers[where_result])"
      ],
      "metadata": {
        "colab": {
          "base_uri": "https://localhost:8080/"
        },
        "id": "qmmF8RnRwfNp",
        "outputId": "41393572-013b-400b-9181-bf7ad218aac0"
      },
      "execution_count": null,
      "outputs": [
        {
          "output_type": "stream",
          "name": "stdout",
          "text": [
            "[1 3 5]\n",
            "NP where  [ 7  8  9 10 11]\n"
          ]
        }
      ]
    },
    {
      "cell_type": "code",
      "source": [
        "condition_array = np.where(numbers>5,numbers*3,numbers*1)\n",
        "print(condition_array)"
      ],
      "metadata": {
        "colab": {
          "base_uri": "https://localhost:8080/"
        },
        "id": "fM6yO2gNxWp_",
        "outputId": "df5c5cf0-2921-40e6-d77b-d076149524cc"
      },
      "execution_count": null,
      "outputs": [
        {
          "output_type": "stream",
          "name": "stdout",
          "text": [
            "[ 1  2  3  4  5 18 21 24 27 30 33]\n"
          ]
        }
      ]
    },
    {
      "cell_type": "code",
      "source": [
        "#merging two diffrent array in a single one\n",
        "arr1 = np.array([1,2,3])\n",
        "arr2=np.array([4,5,6])\n",
        "\n",
        "combined_array = np.concatenate((arr1,arr2))\n",
        "print(combined_array)\n",
        "\n",
        "addition =arr1+arr2\n",
        "print(\"addtion of both the array is \",addition)"
      ],
      "metadata": {
        "colab": {
          "base_uri": "https://localhost:8080/"
        },
        "id": "7gi91OHtydwE",
        "outputId": "c0f0f730-5cc6-4a9a-cb0e-f8ed4d94ce5c"
      },
      "execution_count": null,
      "outputs": [
        {
          "output_type": "stream",
          "name": "stdout",
          "text": [
            "[1 2 3 4 5 6]\n",
            "addtion of both the array is  [5 7 9]\n"
          ]
        }
      ]
    },
    {
      "cell_type": "code",
      "source": [
        "#shape compatiblity\n",
        "a=np.array([1,2,3])\n",
        "b=np.array([4,5,6])\n",
        "c=np.array([7,8,9])\n",
        "\n",
        "print(\"compatiblity shapes \",a.shape == b.shape == c.shape)"
      ],
      "metadata": {
        "colab": {
          "base_uri": "https://localhost:8080/"
        },
        "id": "12iK05JN0j-C",
        "outputId": "73a346e5-989b-41ee-d58c-61ca6f683c89"
      },
      "execution_count": null,
      "outputs": [
        {
          "output_type": "stream",
          "name": "stdout",
          "text": [
            "compatiblity shapes  True\n"
          ]
        }
      ]
    },
    {
      "cell_type": "code",
      "source": [
        "#deletion\n",
        "arr = np.array([1,2,3,4,5])\n",
        "deleted = np.delete(arr,2)\n",
        "print(\"Deleting an element & getting the array \",deleted)"
      ],
      "metadata": {
        "colab": {
          "base_uri": "https://localhost:8080/"
        },
        "id": "-9QVdAo11ou6",
        "outputId": "efc93fc0-4f13-4d27-a8e9-b2592fa831a0"
      },
      "execution_count": null,
      "outputs": [
        {
          "output_type": "stream",
          "name": "stdout",
          "text": [
            "Deleting an element & getting the array  [1 2 4 5]\n"
          ]
        }
      ]
    },
    {
      "cell_type": "code",
      "source": [
        "# Data structure: [restaurant_id, 2021, 2022, 2023, 2024]\n",
        "sales_data = np.array([\n",
        "    [1, 150000, 180000, 220000, 250000],  # Paradise Biryani\n",
        "    [2, 120000, 140000, 160000, 190000],  # Beijing Bites\n",
        "    [3, 200000, 230000, 260000, 300000],  # Pizza Hub\n",
        "    [4, 180000, 210000, 240000, 270000],  # Burger Point\n",
        "    [5, 160000, 185000, 205000, 230000]   # Chai Point\n",
        "])"
      ],
      "metadata": {
        "id": "hUW_tGWF24lf"
      },
      "execution_count": null,
      "outputs": []
    },
    {
      "cell_type": "code",
      "source": [
        "print(\"==Zomato sales analysis==\")\n",
        "print(\"Sales data shapes \",sales_data.shape)\n",
        "print(\"sales data of 1st three restaurent \\n \",sales_data[0:3])"
      ],
      "metadata": {
        "colab": {
          "base_uri": "https://localhost:8080/"
        },
        "id": "j9NQoHI0xHHh",
        "outputId": "d7c2084b-b3bd-4e6f-a152-3eb578af902f"
      },
      "execution_count": null,
      "outputs": [
        {
          "output_type": "stream",
          "name": "stdout",
          "text": [
            "==Zomato sales analysis==\n",
            "Sales data shapes  (5, 5)\n",
            "sales data of 1st three restaurent \n",
            "  [[     1 150000 180000 220000 250000]\n",
            " [     2 120000 140000 160000 190000]\n",
            " [     3 200000 230000 260000 300000]]\n"
          ]
        }
      ]
    },
    {
      "cell_type": "code",
      "source": [
        "#finding the total sum of 1st year sale\n",
        "print(\"Finding the sum of 1st year data \",np.sum(sales_data,axis=0))\n",
        "yearly_total=np.sum(sales_data[:,1:],axis=0)\n",
        "print(\"yearly-total is \",yearly_total)"
      ],
      "metadata": {
        "colab": {
          "base_uri": "https://localhost:8080/"
        },
        "id": "juXAfy_qxQdN",
        "outputId": "e218978d-c3f8-46f4-a95b-107a0e096d49"
      },
      "execution_count": null,
      "outputs": [
        {
          "output_type": "stream",
          "name": "stdout",
          "text": [
            "Finding the sum of 1st year data  [     15  810000  945000 1085000 1240000]\n",
            "yearly-total is  [ 810000  945000 1085000 1240000]\n"
          ]
        }
      ]
    },
    {
      "cell_type": "code",
      "source": [
        "min_sale = np.min(sales_data[:,1:],axis=1)\n",
        "print(min_sale)\n",
        "max_sale = np.max(sales_data[:,1:],axis=0)\n",
        "print(\"maximum sale per year \",max_sale)\n",
        "\n",
        "avg_sale = np.mean(sales_data[:,1:],axis=1)\n",
        "print(\"Average per retaurent \",avg_sale)\n",
        "\n",
        "cumsum=np.cumsum(sales_data[:,1:],axis=1)\n",
        "print(\"\\nCommulative sale per restaurent:->\\n\"\"\\n\",cumsum)"
      ],
      "metadata": {
        "colab": {
          "base_uri": "https://localhost:8080/"
        },
        "id": "XLjlUMQpygHO",
        "outputId": "547aa072-19a9-4e13-b57b-2c0464e15150"
      },
      "execution_count": null,
      "outputs": [
        {
          "output_type": "stream",
          "name": "stdout",
          "text": [
            "[150000 120000 200000 180000 160000]\n",
            "maximum sale per year  [200000 230000 260000 300000]\n",
            "Average per retaurent  [200000. 152500. 247500. 225000. 195000.]\n",
            "\n",
            "Commulative sale per restaurent:->\n",
            "\n",
            " [[150000 330000 550000 800000]\n",
            " [120000 260000 420000 610000]\n",
            " [200000 430000 690000 990000]\n",
            " [180000 390000 630000 900000]\n",
            " [160000 345000 550000 780000]]\n"
          ]
        }
      ]
    },
    {
      "cell_type": "code",
      "source": [
        "#graph plot\n",
        "plt.figure(figsize=(8,4))\n",
        "plt.plot(np.mean(cumsum,axis=0))\n",
        "plt.title(\"Average cumulative sales across all restaurent \")\n",
        "plt.xlabel(\"year\")\n",
        "plt.ylabel(\"Sales\")\n",
        "plt.grid(True)\n",
        "plt.show()"
      ],
      "metadata": {
        "colab": {
          "base_uri": "https://localhost:8080/",
          "height": 410
        },
        "id": "CJCyorxS1XGO",
        "outputId": "9f24a477-c67f-4912-824a-cd450f6ce9d2"
      },
      "execution_count": null,
      "outputs": [
        {
          "output_type": "display_data",
          "data": {
            "text/plain": [
              "<Figure size 800x400 with 1 Axes>"
            ],
            "image/png": "[encoded data removed]"
          },
          "metadata": {}
        }
      ]
    },
    {
      "cell_type": "code",
      "source": [
        "vec1 = np.array([1,2,3,4,5])\n",
        "vec2 = np.array([6,7,8,9,10])\n",
        "print(\"Vector addition \",vec1+vec2)\n",
        "\n",
        "print(\"Vector Multiplication \",vec1*vec2)\n",
        "print(\"Dot Product \",np.dot(vec1,vec2))"
      ],
      "metadata": {
        "colab": {
          "base_uri": "https://localhost:8080/"
        },
        "id": "xV3ENXny5fIp",
        "outputId": "3b442c39-2b90-4b23-ac0f-848e75feb74d"
      },
      "execution_count": null,
      "outputs": [
        {
          "output_type": "stream",
          "name": "stdout",
          "text": [
            "Vector addition  [ 7  9 11 13 15]\n",
            "Vector Multiplication  [ 6 14 24 36 50]\n",
            "Dot Product  130\n"
          ]
        }
      ]
    },
    {
      "cell_type": "code",
      "source": [
        "try:\n",
        "  logo=np.load('numpy-logo.npy')\n",
        "  #display\n",
        "  plt.figure(figsize=(10,5))\n",
        "  plt.subplot(121)\n",
        "  plt.imshow(logo)\n",
        "  plt.grid(False)\n",
        "  plt.title(\"Numpy logo\")\n",
        "\n",
        "  dark_logo= 1-logo\n",
        "  plt.subplot(122)\n",
        "  plt.imshow(dark_logo)\n",
        "  plt.grid(False)\n",
        "  plt.title(\"Numpy Dark logo\")\n",
        "\n",
        "except FileNotFoundError:\n",
        "    print(\"File not found\")\n",
        "\n"
      ],
      "metadata": {
        "colab": {
          "base_uri": "https://localhost:8080/",
          "height": 435
        },
        "id": "3jixM8N86lcp",
        "outputId": "d1d736aa-c3b7-46e6-b2e9-f7b3d476b02d"
      },
      "execution_count": null,
      "outputs": [
        {
          "output_type": "display_data",
          "data": {
            "text/plain": [
              "<Figure size 1000x500 with 2 Axes>"
            ],
            "image/png": "[encoded data removed]"
          },
          "metadata": {}
        }
      ]
    },
    {
      "cell_type": "code",
      "source": [],
      "metadata": {
        "id": "SZZ9Nf6OAY3h",
        "colab": {
          "base_uri": "https://localhost:8080/"
        },
        "outputId": "95c2e774-6589-40ac-f855-db8a87b22f62"
      },
      "execution_count": 1,
      "outputs": [
        {
          "output_type": "stream",
          "name": "stdout",
          "text": [
            "fatal: not a git repository (or any of the parent directories): .git\n"
          ]
        }
      ]
    },
    {
      "cell_type": "code",
      "source": [],
      "metadata": {
        "id": "b9kokCGTS70x"
      },
      "execution_count": null,
      "outputs": []
    }
  ]
}